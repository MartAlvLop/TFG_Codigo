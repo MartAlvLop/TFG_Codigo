{
 "cells": [
  {
   "cell_type": "code",
   "execution_count": 44,
   "id": "9878e5a2-1595-4a3d-b7aa-727c7772271a",
   "metadata": {},
   "outputs": [],
   "source": [
    "class Human(): #Creamos la clase humano\n",
    "    def __init__(self, edad, nombre, ocupacion): #Definimos el parámetro edad, nombre y ocupación\n",
    "        self.edad = edad #Definimos que el atributo edad, sera la edad asignada\n",
    "        self.nombre = nombre #Definimos que el atributo nombre, sera el nombre asig\n",
    "        self.ocupacion = ocupacion #DEFINIMOS EL ATRIBUTO DE INSTANCIA OCUPACION"
   ]
  },
  {
   "cell_type": "code",
   "execution_count": 45,
   "id": "fc9f1f33-a87a-4e77-93dd-85a01f7f8679",
   "metadata": {},
   "outputs": [],
   "source": [
    "#Creación de un nuevo método"
   ]
  },
  {
   "cell_type": "code",
   "execution_count": 46,
   "id": "c8157b00-7b74-414f-a83b-e3a70544c8bd",
   "metadata": {},
   "outputs": [],
   "source": [
    "def presentar(self):\n",
    "    presentacion = (\"Hola soy {}, mi edad es {} y mi ocupación es {}\") #Mensaje\n",
    "    print (presentacion.format(self.nombre, self.edad, self.ocupacion)) #Usamos FORMAT\n",
    "    "
   ]
  },
  {
   "cell_type": "code",
   "execution_count": 47,
   "id": "76e3f07a-39a1-4825-aa9b-0383edd5bea9",
   "metadata": {},
   "outputs": [],
   "source": [
    "Persona= Human(31, \"Pedro\", \"Desocupado\") #Instancia"
   ]
  },
  {
   "cell_type": "code",
   "execution_count": 48,
   "id": "9db89f74-77bb-42a7-b01d-7dacb067d88a",
   "metadata": {},
   "outputs": [],
   "source": [
    "#Llamamos al método"
   ]
  },
  {
   "cell_type": "code",
   "execution_count": 49,
   "id": "0697dc20-b6bd-4578-b781-d6eedf4469a7",
   "metadata": {},
   "outputs": [
    {
     "ename": "AttributeError",
     "evalue": "'Human' object has no attribute 'presentar'",
     "output_type": "error",
     "traceback": [
      "\u001b[1;31m---------------------------------------------------------------------------\u001b[0m",
      "\u001b[1;31mAttributeError\u001b[0m                            Traceback (most recent call last)",
      "Input \u001b[1;32mIn [49]\u001b[0m, in \u001b[0;36m<cell line: 1>\u001b[1;34m()\u001b[0m\n\u001b[1;32m----> 1\u001b[0m \u001b[43mPersona1\u001b[49m\u001b[38;5;241;43m.\u001b[39;49m\u001b[43mpresentar\u001b[49m()\n",
      "\u001b[1;31mAttributeError\u001b[0m: 'Human' object has no attribute 'presentar'"
     ]
    }
   ],
   "source": [
    "Persona1.presentar()    "
   ]
  },
  {
   "cell_type": "code",
   "execution_count": null,
   "id": "c81976a3-5c83-4378-b62a-f737c6b3fd3a",
   "metadata": {},
   "outputs": [],
   "source": []
  },
  {
   "cell_type": "code",
   "execution_count": null,
   "id": "2b6107a7-1bc0-48f5-a3be-91f28e6511be",
   "metadata": {},
   "outputs": [],
   "source": []
  }
 ],
 "metadata": {
  "kernelspec": {
   "display_name": "Python 3 (ipykernel)",
   "language": "python",
   "name": "python3"
  },
  "language_info": {
   "codemirror_mode": {
    "name": "ipython",
    "version": 3
   },
   "file_extension": ".py",
   "mimetype": "text/x-python",
   "name": "python",
   "nbconvert_exporter": "python",
   "pygments_lexer": "ipython3",
   "version": "3.9.12"
  }
 },
 "nbformat": 4,
 "nbformat_minor": 5
}
